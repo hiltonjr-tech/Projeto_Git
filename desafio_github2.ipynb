{
  "nbformat": 4,
  "nbformat_minor": 0,
  "metadata": {
    "colab": {
      "provenance": [],
      "authorship_tag": "ABX9TyMNpqBMGhqixdl+ocsiu1W8",
      "include_colab_link": true
    },
    "kernelspec": {
      "name": "python3",
      "display_name": "Python 3"
    },
    "language_info": {
      "name": "python"
    }
  },
  "cells": [
    {
      "cell_type": "markdown",
      "metadata": {
        "id": "view-in-github",
        "colab_type": "text"
      },
      "source": [
        "<a href=\"https://colab.research.google.com/github/hiltonjr-tech/Projeto_Git/blob/main/desafio_github2.ipynb\" target=\"_parent\"><img src=\"https://colab.research.google.com/assets/colab-badge.svg\" alt=\"Open In Colab\"/></a>"
      ]
    },
    {
      "cell_type": "code",
      "execution_count": 2,
      "metadata": {
        "colab": {
          "base_uri": "https://localhost:8080/"
        },
        "id": "DGIPV075gLNo",
        "outputId": "38bc4c02-71f0-46b9-d33f-7799b72b1837"
      },
      "outputs": [
        {
          "output_type": "stream",
          "name": "stdout",
          "text": [
            "Eu sou Hilton Jr\n"
          ]
        }
      ],
      "source": [
        "dado1 = \"Eu sou\"\n",
        "dado2 = \"Hilton Jr\"\n",
        "\n",
        "resultado = dado1 + \" \" + dado2\n",
        "print(resultado)"
      ]
    },
    {
      "cell_type": "code",
      "source": [
        "entrada_string = input(\"Por favor, insira uma string:\")\n",
        "\n",
        "# Solicitar um número inteiro ao usuário\n",
        "entrada_inteiro = int(input(\"Por favor, insira um número inteiro:\"))\n",
        "\n",
        "# Exibir as entradas\n",
        "print(f\"A string inserida foi: {entrada_string}\")\n",
        "print(f\"O número inteiro inserido foi: {entrada_inteiro}\")"
      ],
      "metadata": {
        "colab": {
          "base_uri": "https://localhost:8080/"
        },
        "id": "eMYqit_ziTNQ",
        "outputId": "96fcdd17-2ec6-4e41-a7fe-759a07f613da"
      },
      "execution_count": 4,
      "outputs": [
        {
          "output_type": "stream",
          "name": "stdout",
          "text": [
            "Por favor, insira uma string:Hilton Jr\n",
            "Por favor, insira um número inteiro:07\n",
            "A string inserida foi: Hilton Jr\n",
            "O número inteiro inserido foi: 7\n"
          ]
        }
      ]
    }
  ]
}