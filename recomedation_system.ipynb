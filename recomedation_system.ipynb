{
  "nbformat": 4,
  "nbformat_minor": 0,
  "metadata": {
    "colab": {
      "provenance": [],
      "authorship_tag": "ABX9TyPwoKyRA+6mhjZvPdbyRHl2",
      "include_colab_link": true
    },
    "kernelspec": {
      "name": "python3",
      "display_name": "Python 3"
    },
    "language_info": {
      "name": "python"
    }
  },
  "cells": [
    {
      "cell_type": "markdown",
      "metadata": {
        "id": "view-in-github",
        "colab_type": "text"
      },
      "source": [
        "<a href=\"https://colab.research.google.com/github/hiltonjr-tech/Projeto_Git/blob/main/recomedation_system.ipynb\" target=\"_parent\"><img src=\"https://colab.research.google.com/assets/colab-badge.svg\" alt=\"Open In Colab\"/></a>"
      ]
    },
    {
      "cell_type": "code",
      "execution_count": 30,
      "metadata": {
        "id": "ZEHyVF5NCJFh"
      },
      "outputs": [],
      "source": [
        "import cv2\n",
        "import numpy as np\n",
        "from sklearn.neighbors import NearestNeighbors\n",
        "import os"
      ]
    },
    {
      "cell_type": "code",
      "source": [
        "def extract_features(image_path):\n",
        "    image = cv2.imread(image_path)\n",
        "    image = cv2.resize(image, (100, 100))  # Redimensiona a imagem\n",
        "    # Calcula a média das cores\n",
        "    mean_color = np.mean(image, axis=(0, 1))\n",
        "    return mean_color\n"
      ],
      "metadata": {
        "id": "fNO4YWgTCWxw"
      },
      "execution_count": 31,
      "outputs": []
    },
    {
      "cell_type": "markdown",
      "source": [
        "image_directory = '/content/drive'\n",
        "image_paths = [os.path.join(image_directory, f) for f in os.listdir(image_directory) if f.endswith('/content/guitar.jpg')]"
      ],
      "metadata": {
        "id": "EqToVH2-C9uG"
      }
    },
    {
      "cell_type": "code",
      "source": [
        "features = np.array([extract_features(image_path) for image_path in image_paths])"
      ],
      "metadata": {
        "id": "acFQguk2EegJ"
      },
      "execution_count": 32,
      "outputs": []
    },
    {
      "cell_type": "code",
      "source": [
        "def recommend_images(image_path):\n",
        "    input_features = extract_features(image_path).reshape(1, -1)\n",
        "    distances, indices = nbrs.kneighbors(input_features)\n",
        "\n",
        "    print(\"Imagens recomendadas:\")\n",
        "    for index in indices[0]:\n",
        "        print(image_paths[index])"
      ],
      "metadata": {
        "id": "mjWyz2sBFGNI"
      },
      "execution_count": 33,
      "outputs": []
    },
    {
      "cell_type": "code",
      "source": [
        "def extract_features(image_path):\n",
        "    image = cv2.imread(image_path)\n",
        "    # Check if the image was loaded successfully\n",
        "    if image is None:\n",
        "        print(f\"Error: Could not load image from {image_path}\")\n",
        "        return None  # or raise an exception\n",
        "    image = cv2.resize(image, (100, 100))  # Redimensiona a imagem\n",
        "    # Calcula a média das cores\n",
        "    mean_color = np.mean(image, axis=(0, 1))\n",
        "    return mean_color\n",
        ""
      ],
      "metadata": {
        "id": "2yqPZf3nFNPB"
      },
      "execution_count": 34,
      "outputs": []
    },
    {
      "cell_type": "code",
      "source": [
        "recommend_images('/content/guitar.jpg')"
      ],
      "metadata": {
        "colab": {
          "base_uri": "https://localhost:8080/",
          "height": 263
        },
        "id": "pqCGKrmeKvRN",
        "outputId": "0e5d52cb-22f6-4030-a3cd-1250540ffe18"
      },
      "execution_count": 35,
      "outputs": [
        {
          "output_type": "error",
          "ename": "NameError",
          "evalue": "name 'nbrs' is not defined",
          "traceback": [
            "\u001b[0;31m---------------------------------------------------------------------------\u001b[0m",
            "\u001b[0;31mNameError\u001b[0m                                 Traceback (most recent call last)",
            "\u001b[0;32m<ipython-input-35-dc38dc74bff6>\u001b[0m in \u001b[0;36m<cell line: 0>\u001b[0;34m()\u001b[0m\n\u001b[0;32m----> 1\u001b[0;31m \u001b[0mrecommend_images\u001b[0m\u001b[0;34m(\u001b[0m\u001b[0;34m'/content/guitar.jpg'\u001b[0m\u001b[0;34m)\u001b[0m\u001b[0;34m\u001b[0m\u001b[0;34m\u001b[0m\u001b[0m\n\u001b[0m",
            "\u001b[0;32m<ipython-input-33-f904ed6938fd>\u001b[0m in \u001b[0;36mrecommend_images\u001b[0;34m(image_path)\u001b[0m\n\u001b[1;32m      1\u001b[0m \u001b[0;32mdef\u001b[0m \u001b[0mrecommend_images\u001b[0m\u001b[0;34m(\u001b[0m\u001b[0mimage_path\u001b[0m\u001b[0;34m)\u001b[0m\u001b[0;34m:\u001b[0m\u001b[0;34m\u001b[0m\u001b[0;34m\u001b[0m\u001b[0m\n\u001b[1;32m      2\u001b[0m     \u001b[0minput_features\u001b[0m \u001b[0;34m=\u001b[0m \u001b[0mextract_features\u001b[0m\u001b[0;34m(\u001b[0m\u001b[0mimage_path\u001b[0m\u001b[0;34m)\u001b[0m\u001b[0;34m.\u001b[0m\u001b[0mreshape\u001b[0m\u001b[0;34m(\u001b[0m\u001b[0;36m1\u001b[0m\u001b[0;34m,\u001b[0m \u001b[0;34m-\u001b[0m\u001b[0;36m1\u001b[0m\u001b[0;34m)\u001b[0m\u001b[0;34m\u001b[0m\u001b[0;34m\u001b[0m\u001b[0m\n\u001b[0;32m----> 3\u001b[0;31m     \u001b[0mdistances\u001b[0m\u001b[0;34m,\u001b[0m \u001b[0mindices\u001b[0m \u001b[0;34m=\u001b[0m \u001b[0mnbrs\u001b[0m\u001b[0;34m.\u001b[0m\u001b[0mkneighbors\u001b[0m\u001b[0;34m(\u001b[0m\u001b[0minput_features\u001b[0m\u001b[0;34m)\u001b[0m\u001b[0;34m\u001b[0m\u001b[0;34m\u001b[0m\u001b[0m\n\u001b[0m\u001b[1;32m      4\u001b[0m \u001b[0;34m\u001b[0m\u001b[0m\n\u001b[1;32m      5\u001b[0m     \u001b[0mprint\u001b[0m\u001b[0;34m(\u001b[0m\u001b[0;34m\"Imagens recomendadas:\"\u001b[0m\u001b[0;34m)\u001b[0m\u001b[0;34m\u001b[0m\u001b[0;34m\u001b[0m\u001b[0m\n",
            "\u001b[0;31mNameError\u001b[0m: name 'nbrs' is not defined"
          ]
        }
      ]
    }
  ]
}